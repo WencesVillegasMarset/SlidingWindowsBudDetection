{
 "cells": [
  {
   "cell_type": "code",
   "execution_count": 6,
   "metadata": {},
   "outputs": [],
   "source": [
    "import numpy as np\n",
    "import os\n",
    "import pandas as pd\n",
    "import matplotlib.pyplot as plt\n",
    "import re\n",
    "import cv2\n",
    "%matplotlib inline"
   ]
  },
  {
   "cell_type": "code",
   "execution_count": 7,
   "metadata": {},
   "outputs": [],
   "source": [
    "csv = pd.read_csv('../output/result_300_150step_04ovlp.csv')\n",
    "IMAGES_PATH = '/home/wences/Documents/src/images/images/'\n",
    "PROJECTIONS_PATH = '../output/300_150step_04ovlp/projections/'\n",
    "MASKS_PATH = '../output/300_150step_04ovlp/masks/'\n",
    "ARRAYS_PATH = '../output/300_150step_04ovlp/vote_arrays/'\n",
    "BASE_IMAGES_PATH = '/home/wences/Documents/corpus-26000/images/'\n",
    "BINARY_MASK_PATH = '../output/300_150step_04ovlp/binary_masks/'"
   ]
  },
  {
   "cell_type": "code",
   "execution_count": 8,
   "metadata": {},
   "outputs": [],
   "source": [
    "npy_mask = os.listdir(ARRAYS_PATH)\n",
    "npy_mask = sorted(npy_mask)\n",
    "temp = np.load(os.path.join(ARRAYS_PATH, npy_mask[0]))"
   ]
  },
  {
   "cell_type": "code",
   "execution_count": 9,
   "metadata": {},
   "outputs": [
    {
     "data": {
      "text/plain": [
       "(3456, 4608)"
      ]
     },
     "execution_count": 9,
     "metadata": {},
     "output_type": "execute_result"
    }
   ],
   "source": [
    "temp.shape"
   ]
  },
  {
   "cell_type": "code",
   "execution_count": 10,
   "metadata": {},
   "outputs": [
    {
     "data": {
      "text/plain": [
       "<matplotlib.image.AxesImage at 0x7f43e2f46a20>"
      ]
     },
     "execution_count": 10,
     "metadata": {},
     "output_type": "execute_result"
    },
    {
     "data": {
      "image/png": "[encoded data removed]",
      "text/plain": [
       "<Figure size 432x288 with 1 Axes>"
      ]
     },
     "metadata": {
      "needs_background": "light"
     },
     "output_type": "display_data"
    }
   ],
   "source": [
    "plt.gray()\n",
    "temp[temp<3] = 0\n",
    "plt.imshow(np.uint8(temp.astype(bool)))"
   ]
  },
  {
   "cell_type": "code",
   "execution_count": 11,
   "metadata": {},
   "outputs": [
    {
     "data": {
      "text/plain": [
       "['mask_sw_0396.npy',\n",
       " 'mask_sw_0174.npy',\n",
       " 'mask_sw_0062.npy',\n",
       " 'mask_sw_0468.npy',\n",
       " 'mask_sw_0678.npy',\n",
       " 'mask_sw_0323.npy',\n",
       " 'mask_sw_0136.npy',\n",
       " 'mask_sw_0465.npy',\n",
       " 'mask_sw_0768.npy',\n",
       " 'mask_sw_0485.npy',\n",
       " 'mask_sw_0061.npy',\n",
       " 'mask_sw_0354.npy',\n",
       " 'mask_sw_0624.npy',\n",
       " 'mask_sw_0463.npy',\n",
       " 'mask_sw_0043.npy',\n",
       " 'mask_sw_0175.npy',\n",
       " 'mask_sw_0480.npy',\n",
       " 'mask_sw_0595.npy',\n",
       " 'mask_sw_0378.npy',\n",
       " 'mask_sw_0771.npy',\n",
       " 'mask_sw_0083.npy',\n",
       " 'mask_sw_0163.npy',\n",
       " 'mask_sw_0094.npy',\n",
       " 'mask_sw_0578.npy',\n",
       " 'mask_sw_0620.npy',\n",
       " 'mask_sw_0071.npy',\n",
       " 'mask_sw_0119.npy',\n",
       " 'mask_sw_0517.npy',\n",
       " 'mask_sw_0076.npy',\n",
       " 'mask_sw_0674.npy',\n",
       " 'mask_sw_0021.npy',\n",
       " 'mask_sw_0417.npy',\n",
       " 'mask_sw_0666.npy',\n",
       " 'mask_sw_0078.npy',\n",
       " 'mask_sw_0749.npy',\n",
       " 'mask_sw_0213.npy',\n",
       " 'mask_sw_0052.npy',\n",
       " 'mask_sw_0619.npy',\n",
       " 'mask_sw_0330.npy',\n",
       " 'mask_sw_0669.npy',\n",
       " 'mask_sw_0067.npy',\n",
       " 'mask_sw_0374.npy',\n",
       " 'mask_sw_0675.npy',\n",
       " 'mask_sw_0087.npy',\n",
       " 'mask_sw_0584.npy',\n",
       " 'mask_sw_0493.npy',\n",
       " 'mask_sw_0150.npy',\n",
       " 'mask_sw_0381.npy',\n",
       " 'mask_sw_0487.npy',\n",
       " 'mask_sw_0491.npy',\n",
       " 'mask_sw_0110.npy',\n",
       " 'mask_sw_0191.npy',\n",
       " 'mask_sw_0430.npy',\n",
       " 'mask_sw_0554.npy',\n",
       " 'mask_sw_0523.npy',\n",
       " 'mask_sw_0141.npy',\n",
       " 'mask_sw_0370.npy',\n",
       " 'mask_sw_0453.npy',\n",
       " 'mask_sw_0120.npy',\n",
       " 'mask_sw_0122.npy',\n",
       " 'mask_sw_0644.npy',\n",
       " 'mask_sw_0103.npy',\n",
       " 'mask_sw_0443.npy',\n",
       " 'mask_sw_0084.npy',\n",
       " 'mask_sw_0336.npy',\n",
       " 'mask_sw_0605.npy',\n",
       " 'mask_sw_0570.npy',\n",
       " 'mask_sw_0766.npy',\n",
       " 'mask_sw_0059.npy',\n",
       " 'mask_sw_0121.npy',\n",
       " 'mask_sw_0585.npy',\n",
       " 'mask_sw_0494.npy',\n",
       " 'mask_sw_0540.npy',\n",
       " 'mask_sw_0070.npy',\n",
       " 'mask_sw_0429.npy',\n",
       " 'mask_sw_0058.npy',\n",
       " 'mask_sw_0187.npy',\n",
       " 'mask_sw_0036.npy',\n",
       " 'mask_sw_0086.npy',\n",
       " 'mask_sw_0527.npy',\n",
       " 'mask_sw_0621.npy',\n",
       " 'mask_sw_0398.npy',\n",
       " 'mask_sw_0735.npy',\n",
       " 'mask_sw_0476.npy',\n",
       " 'mask_sw_0550.npy',\n",
       " 'mask_sw_0068.npy',\n",
       " 'mask_sw_0372.npy',\n",
       " 'mask_sw_0710.npy',\n",
       " 'mask_sw_0010.npy',\n",
       " 'mask_sw_0577.npy',\n",
       " 'mask_sw_0688.npy',\n",
       " 'mask_sw_0450.npy',\n",
       " 'mask_sw_0764.npy',\n",
       " 'mask_sw_0106.npy',\n",
       " 'mask_sw_0182.npy',\n",
       " 'mask_sw_0037.npy',\n",
       " 'mask_sw_0025.npy',\n",
       " 'mask_sw_0714.npy',\n",
       " 'mask_sw_0609.npy',\n",
       " 'mask_sw_0281.npy',\n",
       " 'mask_sw_0379.npy',\n",
       " 'mask_sw_0599.npy',\n",
       " 'mask_sw_0456.npy',\n",
       " 'mask_sw_0684.npy',\n",
       " 'mask_sw_0049.npy',\n",
       " 'mask_sw_0183.npy',\n",
       " 'mask_sw_0758.npy',\n",
       " 'mask_sw_0535.npy',\n",
       " 'mask_sw_0134.npy',\n",
       " 'mask_sw_0689.npy',\n",
       " 'mask_sw_0687.npy',\n",
       " 'mask_sw_0258.npy',\n",
       " 'mask_sw_0626.npy',\n",
       " 'mask_sw_0441.npy',\n",
       " 'mask_sw_0763.npy',\n",
       " 'mask_sw_0672.npy',\n",
       " 'mask_sw_0018.npy',\n",
       " 'mask_sw_0733.npy',\n",
       " 'mask_sw_0559.npy',\n",
       " 'mask_sw_0304.npy',\n",
       " 'mask_sw_0617.npy',\n",
       " 'mask_sw_0001.npy',\n",
       " 'mask_sw_0460.npy',\n",
       " 'mask_sw_0440.npy',\n",
       " 'mask_sw_0547.npy',\n",
       " 'mask_sw_0015.npy',\n",
       " 'mask_sw_0377.npy',\n",
       " 'mask_sw_0063.npy',\n",
       " 'mask_sw_0282.npy',\n",
       " 'mask_sw_0717.npy',\n",
       " 'mask_sw_0189.npy',\n",
       " 'mask_sw_0431.npy',\n",
       " 'mask_sw_0747.npy',\n",
       " 'mask_sw_0647.npy',\n",
       " 'mask_sw_0479.npy',\n",
       " 'mask_sw_0729.npy',\n",
       " 'mask_sw_0648.npy',\n",
       " 'mask_sw_0113.npy',\n",
       " 'mask_sw_0594.npy']"
      ]
     },
     "execution_count": 11,
     "metadata": {},
     "output_type": "execute_result"
    }
   ],
   "source": [
    "npy_mask = os.listdir(ARRAYS_PATH)\n",
    "npy_mask"
   ]
  },
  {
   "cell_type": "code",
   "execution_count": 12,
   "metadata": {
    "scrolled": true
   },
   "outputs": [
    {
     "data": {
      "text/plain": [
       "'mask_sw_0396.npy'"
      ]
     },
     "execution_count": 12,
     "metadata": {},
     "output_type": "execute_result"
    }
   ],
   "source": [
    "npy_mask[0]"
   ]
  },
  {
   "cell_type": "code",
   "execution_count": 13,
   "metadata": {},
   "outputs": [
    {
     "name": "stdout",
     "output_type": "stream",
     "text": [
      "\n",
      "\n",
      "\n",
      "\n",
      "\n",
      "\n",
      "\n",
      "\n",
      "\n",
      "\n",
      "\n",
      "\n",
      "\n",
      "\n",
      "\n",
      "\n",
      "\n",
      "\n",
      "\n",
      "\n",
      "\n",
      "\n",
      "\n",
      "\n",
      "\n",
      "\n",
      "\n",
      "\n",
      "\n",
      "\n",
      "\n",
      "\n",
      "\n",
      "\n",
      "\n",
      "\n",
      "\n",
      "\n",
      "\n",
      "\n",
      "\n",
      "\n",
      "\n",
      "\n",
      "\n",
      "\n",
      "\n",
      "\n",
      "\n",
      "\n",
      "\n",
      "\n",
      "\n",
      "\n",
      "\n",
      "\n",
      "\n",
      "\n",
      "\n",
      "\n",
      "\n",
      "\n",
      "\n",
      "\n",
      "\n",
      "\n",
      "\n",
      "\n",
      "\n",
      "\n",
      "\n",
      "\n",
      "\n",
      "\n",
      "\n",
      "\n",
      "\n",
      "\n",
      "\n",
      "\n",
      "\n",
      "\n",
      "\n",
      "\n",
      "\n",
      "\n",
      "\n",
      "\n",
      "\n",
      "\n",
      "\n",
      "\n",
      "\n",
      "\n",
      "\n",
      "\n",
      "\n",
      "\n",
      "\n",
      "\n",
      "\n",
      "\n",
      "\n",
      "\n",
      "\n",
      "\n",
      "\n",
      "\n",
      "\n",
      "\n",
      "\n",
      "\n",
      "\n",
      "\n",
      "\n",
      "\n",
      "\n",
      "\n",
      "\n",
      "\n",
      "\n",
      "\n",
      "\n",
      "\n",
      "\n",
      "\n",
      "\n",
      "\n",
      "\n",
      "\n",
      "\n",
      "\n",
      "\n",
      "\n",
      "\n",
      "\n",
      "\n",
      "\n",
      "\n"
     ]
    }
   ],
   "source": [
    "for npy_array in npy_mask:\n",
    "    mask = np.load(ARRAYS_PATH + npy_array)\n",
    "    mask[mask<3] = 0\n",
    "    print()\n",
    "    mask = np.uint8(mask.astype(bool))\n",
    "    cv2.imwrite(BINARY_MASK_PATH + 'bin_' + npy_array[0:-4] + '.jpg', cv2.normalize(mask,None,0,255,cv2.NORM_MINMAX))"
   ]
  }
 ],
 "metadata": {
  "kernelspec": {
   "display_name": "Python 3",
   "language": "python",
   "name": "python3"
  },
  "language_info": {
   "codemirror_mode": {
    "name": "ipython",
    "version": 3
   },
   "file_extension": ".py",
   "mimetype": "text/x-python",
   "name": "python",
   "nbconvert_exporter": "python",
   "pygments_lexer": "ipython3",
   "version": "3.6.8"
  }
 },
 "nbformat": 4,
 "nbformat_minor": 2
}
