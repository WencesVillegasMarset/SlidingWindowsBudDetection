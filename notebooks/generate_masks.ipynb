{
 "cells": [
  {
   "cell_type": "code",
   "execution_count": 1,
   "metadata": {},
   "outputs": [],
   "source": [
    "import pandas as pd\n",
    "import matplotlib.pyplot as plt\n",
    "import os\n",
    "import cv2\n",
    "import numpy as np"
   ]
  },
  {
   "cell_type": "code",
   "execution_count": 2,
   "metadata": {},
   "outputs": [],
   "source": [
    "csv = pd.read_csv('../output/result_300_150step_04ovlp.csv')"
   ]
  },
  {
   "cell_type": "code",
   "execution_count": 3,
   "metadata": {},
   "outputs": [],
   "source": [
    "csv = pd.read_csv('../output/result_300_150step_04ovlp.csv')\n",
    "IMAGES_PATH = '/home/wences/Documents/src/images/images/'\n",
    "PROJECTIONS_PATH = '../output/300_150step_04ovlp/projections/'\n",
    "MASKS_PATH = '../output/300_150step_04ovlp/masks/'\n",
    "ARRAYS_PATH = '../output/300_150step_04ovlp/vote_arrays/'\n",
    "BASE_IMAGES_PATH = '/home/wences/Documents/corpus-26000/images/'\n",
    "BINARY_MASK_PATH = '../output/300_150step_04ovlp/binary_masks/'"
   ]
  },
  {
   "cell_type": "code",
   "execution_count": 4,
   "metadata": {},
   "outputs": [],
   "source": [
    "positive_patches = csv.loc[csv['svm_result'] > 0.5,:]"
   ]
  },
  {
   "cell_type": "code",
   "execution_count": 5,
   "metadata": {},
   "outputs": [],
   "source": [
    "list_positive_images = positive_patches['image_name'].unique()"
   ]
  },
  {
   "cell_type": "code",
   "execution_count": 6,
   "metadata": {},
   "outputs": [],
   "source": [
    "for image_name in list_positive_images:\n",
    "    patches_from_image = positive_patches.loc[positive_patches['image_name'] == image_name,:]\n",
    "    img = cv2.cvtColor(cv2.imread(IMAGES_PATH + image_name), cv2.COLOR_BGR2RGB)\n",
    "    for idx, row in patches_from_image.iterrows():\n",
    "        cv2.rectangle(img,(row['top_left_corner_y'],row['top_left_corner_x']),(row['top_left_corner_y']+300,row['top_left_corner_x']+300),(0,255,0),int(row['svm_result']*35))\n",
    "    cv2.imwrite(PROJECTIONS_PATH + 'sw_'+ image_name, img)"
   ]
  },
  {
   "cell_type": "code",
   "execution_count": 7,
   "metadata": {},
   "outputs": [],
   "source": [
    "for image_name in list_positive_images:\n",
    "    patches_from_image = positive_patches.loc[positive_patches['image_name'] == image_name,:]\n",
    "    img = cv2.cvtColor(cv2.imread(IMAGES_PATH + image_name), cv2.COLOR_BGR2RGB)\n",
    "    mask = np.zeros_like(img[:,:,0])\n",
    "    for idx, row in patches_from_image.iterrows():\n",
    "        x = row['top_left_corner_x']\n",
    "        y = row['top_left_corner_y']\n",
    "        mask[x:x+300,y:y+300] += 1\n",
    "        #cv2.rectangle(img,(row['top_left_corner_x'],row['top_left_corner_y']),(row['top_left_corner_x']+300,row['top_left_corner_y']+300),(0,255,0),20)\n",
    "    cv2.imwrite(MASKS_PATH + 'mask_sw_'+ image_name, cv2.normalize(mask,None,0,255,cv2.NORM_MINMAX))"
   ]
  },
  {
   "cell_type": "code",
   "execution_count": 8,
   "metadata": {},
   "outputs": [],
   "source": [
    "for image_name in list_positive_images:\n",
    "    patches_from_image = positive_patches.loc[positive_patches['image_name'] == image_name,:]\n",
    "    img = cv2.cvtColor(cv2.imread(IMAGES_PATH + image_name), cv2.COLOR_BGR2RGB)\n",
    "    mask = np.zeros_like(img[:,:,0])\n",
    "    for idx, row in patches_from_image.iterrows():\n",
    "        x = row['top_left_corner_x']\n",
    "        y = row['top_left_corner_y']\n",
    "        mask[x:x+300,y:y+300] += 1\n",
    "    np.save(ARRAYS_PATH + 'mask_sw_'+ image_name[0:4]+'.npy', mask)"
   ]
  },
  {
   "cell_type": "code",
   "execution_count": 9,
   "metadata": {},
   "outputs": [],
   "source": [
    "npy_mask = os.listdir(ARRAYS_PATH)\n",
    "npy_mask = sorted(npy_mask)"
   ]
  },
  {
   "cell_type": "code",
   "execution_count": 10,
   "metadata": {},
   "outputs": [],
   "source": [
    "for npy_array in npy_mask:\n",
    "    mask = np.load(ARRAYS_PATH + npy_array)\n",
    "    mask[mask<3] = 0\n",
    "    mask = np.uint8(mask.astype(bool))\n",
    "    cv2.imwrite(BINARY_MASK_PATH + 'bin_' + npy_array[0:-4] + '.jpg', cv2.normalize(mask,None,0,255,cv2.NORM_MINMAX))"
   ]
  }
 ],
 "metadata": {
  "kernelspec": {
   "display_name": "Python 3",
   "language": "python",
   "name": "python3"
  },
  "language_info": {
   "codemirror_mode": {
    "name": "ipython",
    "version": 3
   },
   "file_extension": ".py",
   "mimetype": "text/x-python",
   "name": "python",
   "nbconvert_exporter": "python",
   "pygments_lexer": "ipython3",
   "version": "3.6.8"
  }
 },
 "nbformat": 4,
 "nbformat_minor": 2
}
