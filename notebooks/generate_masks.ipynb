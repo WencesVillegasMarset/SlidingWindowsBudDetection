{
 "cells": [
  {
   "cell_type": "code",
   "execution_count": 1,
   "metadata": {},
   "outputs": [],
   "source": [
    "import pandas as pd\n",
    "import matplotlib.pyplot as plt\n",
    "import os\n",
    "import cv2\n",
    "import numpy as np"
   ]
  },
  {
   "cell_type": "code",
   "execution_count": 2,
   "metadata": {},
   "outputs": [],
   "source": [
    "csv = pd.read_csv('../output/result_300_150step_04ovlp.csv')"
   ]
  },
  {
   "cell_type": "code",
   "execution_count": 1,
   "metadata": {},
   "outputs": [],
   "source": [
    "IMAGES_PATH = '/home/wences/Documents/src/images/images/'\n",
    "PROJECTIONS_PATH = '../output/predictions/projections/'\n",
    "MASKS_PATH = '../output/predictions/masks/'\n",
    "ARRAYS_PATH = '../output/predictions/vote_arrays/'\n",
    "BINARY_MASK_PATH = '../output/predictions/binary_masks/'"
   ]
  },
  {
   "cell_type": "code",
   "execution_count": 4,
   "metadata": {},
   "outputs": [],
   "source": [
    "positive_patches = csv.loc[csv['svm_result'] > 0.5,:]"
   ]
  },
  {
   "cell_type": "code",
   "execution_count": 5,
   "metadata": {},
   "outputs": [],
   "source": [
    "list_positive_images = positive_patches['image_name'].unique()"
   ]
  },
  {
   "cell_type": "code",
   "execution_count": 11,
   "metadata": {},
   "outputs": [
    {
     "data": {
      "text/plain": [
       "array(['0766.jpg', '0485.jpg', '0674.jpg', '0417.jpg', '0136.jpg',\n",
       "       '0570.jpg', '0119.jpg', '0595.jpg', '0758.jpg', '0479.jpg',\n",
       "       '0330.jpg', '0379.jpg', '0443.jpg', '0025.jpg', '0678.jpg',\n",
       "       '0547.jpg', '0122.jpg', '0465.jpg', '0163.jpg', '0476.jpg',\n",
       "       '0763.jpg', '0067.jpg', '0771.jpg', '0714.jpg', '0106.jpg',\n",
       "       '0440.jpg', '0468.jpg', '0688.jpg', '0049.jpg', '0010.jpg',\n",
       "       '0061.jpg', '0666.jpg', '0323.jpg', '0058.jpg', '0429.jpg',\n",
       "       '0624.jpg', '0213.jpg', '0487.jpg', '0021.jpg', '0644.jpg',\n",
       "       '0647.jpg', '0150.jpg', '0621.jpg', '0594.jpg', '0175.jpg',\n",
       "       '0110.jpg', '0491.jpg', '0669.jpg', '0381.jpg', '0577.jpg',\n",
       "       '0584.jpg', '0062.jpg', '0733.jpg', '0684.jpg', '0336.jpg',\n",
       "       '0480.jpg', '0304.jpg', '0378.jpg', '0059.jpg', '0083.jpg',\n",
       "       '0191.jpg', '0037.jpg', '0377.jpg', '0617.jpg', '0527.jpg',\n",
       "       '0071.jpg', '0043.jpg', '0018.jpg', '0585.jpg', '0687.jpg',\n",
       "       '0540.jpg', '0001.jpg', '0174.jpg', '0103.jpg', '0076.jpg',\n",
       "       '0450.jpg', '0729.jpg', '0068.jpg', '0183.jpg', '0550.jpg',\n",
       "       '0672.jpg', '0710.jpg', '0134.jpg', '0578.jpg', '0675.jpg',\n",
       "       '0374.jpg', '0086.jpg', '0749.jpg', '0258.jpg', '0087.jpg',\n",
       "       '0431.jpg', '0015.jpg', '0460.jpg', '0626.jpg', '0535.jpg',\n",
       "       '0187.jpg', '0094.jpg', '0141.jpg', '0372.jpg', '0605.jpg',\n",
       "       '0620.jpg', '0052.jpg', '0609.jpg', '0063.jpg', '0281.jpg',\n",
       "       '0517.jpg', '0648.jpg', '0113.jpg', '0398.jpg', '0559.jpg',\n",
       "       '0456.jpg', '0735.jpg', '0441.jpg', '0463.jpg', '0453.jpg',\n",
       "       '0599.jpg', '0764.jpg', '0078.jpg', '0619.jpg', '0182.jpg',\n",
       "       '0282.jpg', '0493.jpg', '0747.jpg', '0120.jpg', '0523.jpg',\n",
       "       '0430.jpg', '0070.jpg', '0689.jpg', '0554.jpg', '0036.jpg',\n",
       "       '0354.jpg', '0189.jpg', '0768.jpg', '0717.jpg', '0494.jpg',\n",
       "       '0121.jpg', '0084.jpg', '0396.jpg', '0370.jpg'], dtype=object)"
      ]
     },
     "execution_count": 11,
     "metadata": {},
     "output_type": "execute_result"
    }
   ],
   "source": [
    "list_positive_images"
   ]
  },
  {
   "cell_type": "code",
   "execution_count": 14,
   "metadata": {},
   "outputs": [
    {
     "data": {
      "text/plain": [
       "count    925.000000\n",
       "mean       0.000110\n",
       "std        0.001219\n",
       "min        0.000000\n",
       "25%        0.000000\n",
       "50%        0.000000\n",
       "75%        0.000000\n",
       "max        0.032555\n",
       "Name: svm_result, dtype: float64"
      ]
     },
     "execution_count": 14,
     "metadata": {},
     "output_type": "execute_result"
    }
   ],
   "source": [
    "csv.loc[csv['image_name'] == '0321.jpg']['svm_result']"
   ]
  },
  {
   "cell_type": "code",
   "execution_count": 6,
   "metadata": {},
   "outputs": [],
   "source": [
    "for image_name in list_positive_images:\n",
    "    patches_from_image = positive_patches.loc[positive_patches['image_name'] == image_name,:]\n",
    "    img = cv2.cvtColor(cv2.imread(IMAGES_PATH + image_name), cv2.COLOR_BGR2RGB)\n",
    "    for idx, row in patches_from_image.iterrows():\n",
    "        cv2.rectangle(img,(row['top_left_corner_y'],row['top_left_corner_x']),(row['top_left_corner_y']+300,row['top_left_corner_x']+300),(0,255,0),int(row['svm_result']*35))\n",
    "    cv2.imwrite(PROJECTIONS_PATH + 'sw_'+ image_name, img)"
   ]
  },
  {
   "cell_type": "code",
   "execution_count": 6,
   "metadata": {},
   "outputs": [],
   "source": [
    "for image_name in list_positive_images:\n",
    "    patches_from_image = positive_patches.loc[positive_patches['image_name'] == image_name,:]\n",
    "    img = cv2.cvtColor(cv2.imread(IMAGES_PATH + image_name), cv2.COLOR_BGR2RGB)\n",
    "    mask = np.zeros_like(img[:,:,0])\n",
    "    for idx, row in patches_from_image.iterrows():\n",
    "        x = row['top_left_corner_x']\n",
    "        y = row['top_left_corner_y']\n",
    "        mask[x:x+300,y:y+300] += 1\n",
    "        #cv2.rectangle(img,(row['top_left_corner_x'],row['top_left_corner_y']),(row['top_left_corner_x']+300,row['top_left_corner_y']+300),(0,255,0),20)\n",
    "    cv2.imwrite(MASKS_PATH + 'mask_sw_'+ image_name, cv2.normalize(mask,None,0,255,cv2.NORM_MINMAX))"
   ]
  },
  {
   "cell_type": "code",
   "execution_count": 14,
   "metadata": {},
   "outputs": [],
   "source": [
    "for image_name in list_positive_images:\n",
    "    patches_from_image = positive_patches.loc[positive_patches['image_name'] == image_name,:]\n",
    "    img = cv2.cvtColor(cv2.imread(IMAGES_PATH + image_name), cv2.COLOR_BGR2RGB)\n",
    "    mask = np.zeros_like(img[:,:,0])\n",
    "    for idx, row in patches_from_image.iterrows():\n",
    "        x = row['top_left_corner_x']\n",
    "        y = row['top_left_corner_y']\n",
    "        mask[x:x+300,y:y+300] += 1\n",
    "        #cv2.rectangle(img,(row['top_left_corner_x'],row['top_left_corner_y']),(row['top_left_corner_x']+300,row['top_left_corner_y']+300),(0,255,0),20)\n",
    "    np.save(ARRAYS_PATH + 'mask_sw_'+ image_name[0:4]+'.npy', mask)"
   ]
  },
  {
   "cell_type": "code",
   "execution_count": null,
   "metadata": {},
   "outputs": [],
   "source": [
    "for image_name in list_positive_images:\n",
    "    patches_from_image = positive_patches.loc[positive_patches['image_name'] == image_name,:]\n",
    "    img = cv2.cvtColor(cv2.imread(IMAGES_PATH + image_name), cv2.COLOR_BGR2RGB)\n",
    "    mask = np.zeros_like(img[:,:,0])\n",
    "    for idx, row in patches_from_image.iterrows():\n",
    "        x = row['top_left_corner_x']\n",
    "        y = row['top_left_corner_y']\n",
    "        mask[x:x+300,y:y+300] += 1\n",
    "        #cv2.rectangle(img,(row['top_left_corner_x'],row['top_left_corner_y']),(row['top_left_corner_x']+300,row['top_left_corner_y']+300),(0,255,0),20)\n",
    "    cv2.imwrite(MASKS_PATH + 'mask_sw_'+ image_name, cv2.normalize(mask,None,0,255,cv2.NORM_MINMAX))"
   ]
  }
 ],
 "metadata": {
  "kernelspec": {
   "display_name": "Python 3",
   "language": "python",
   "name": "python3"
  },
  "language_info": {
   "codemirror_mode": {
    "name": "ipython",
    "version": 3
   },
   "file_extension": ".py",
   "mimetype": "text/x-python",
   "name": "python",
   "nbconvert_exporter": "python",
   "pygments_lexer": "ipython3",
   "version": "3.6.8"
  }
 },
 "nbformat": 4,
 "nbformat_minor": 2
}
